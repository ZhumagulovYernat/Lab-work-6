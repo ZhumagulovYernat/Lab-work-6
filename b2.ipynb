{
 "cells": [
  {
   "cell_type": "code",
   "execution_count": 36,
   "metadata": {},
   "outputs": [
    {
     "name": "stdout",
     "output_type": "stream",
     "text": [
      "Upper case letters = 3, Lower case letters = 3\n"
     ]
    }
   ],
   "source": [
    "from builttask222 import Lettercases  \n",
    "Word = input(\"Введите слово: \")  \n",
    "print(Lettercases(Word))  \n"
   ]
  },
  {
   "cell_type": "code",
   "execution_count": null,
   "metadata": {},
   "outputs": [
    {
     "name": "stdout",
     "output_type": "stream",
     "text": [
      "Writing builttask222.py\n"
     ]
    }
   ],
   "source": [
    "%%writefile builttask222.py\n",
    "def Lettercases(Word):  \n",
    "    up = 0\n",
    "    low = 0\n",
    "    for i in Word: \n",
    "        if i.isupper():  \n",
    "            up += 1\n",
    "        elif i.islower():  \n",
    "            low += 1\n",
    "    return f'Upper case letters = {up}, Lower case letters = {low}'\n"
   ]
  }
 ],
 "metadata": {
  "kernelspec": {
   "display_name": "Python 3",
   "language": "python",
   "name": "python3"
  },
  "language_info": {
   "codemirror_mode": {
    "name": "ipython",
    "version": 3
   },
   "file_extension": ".py",
   "mimetype": "text/x-python",
   "name": "python",
   "nbconvert_exporter": "python",
   "pygments_lexer": "ipython3",
   "version": "3.11.9"
  }
 },
 "nbformat": 4,
 "nbformat_minor": 2
}
