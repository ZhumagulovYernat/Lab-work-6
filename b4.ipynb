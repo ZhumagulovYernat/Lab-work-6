{
 "cells": [
  {
   "cell_type": "code",
   "execution_count": 2,
   "metadata": {},
   "outputs": [
    {
     "name": "stdout",
     "output_type": "stream",
     "text": [
      "Square root of 25.0 after 20000 ms is 5.0\n"
     ]
    }
   ],
   "source": [
    "from maintask import delayed_sqrt  \n",
    "\n",
    "num = float(input(\"Enter a number: \"))\n",
    "delay = int(input(\"Enter delay in milliseconds: \"))\n",
    "\n",
    "result = delayed_sqrt(num, delay)\n",
    "print(f\"Square root of {num} after {delay} ms is {result}\")\n"
   ]
  },
  {
   "cell_type": "code",
   "execution_count": 1,
   "metadata": {},
   "outputs": [
    {
     "name": "stdout",
     "output_type": "stream",
     "text": [
      "Writing maintask.py\n"
     ]
    }
   ],
   "source": [
    "%%writefile maintask.py\n",
    "import time\n",
    "import math\n",
    "\n",
    "def delayed_sqrt(number, delay_ms):\n",
    "    time.sleep(delay_ms / 1000)\n",
    "    return math.sqrt(number)"
   ]
  }
 ],
 "metadata": {
  "kernelspec": {
   "display_name": "Python 3",
   "language": "python",
   "name": "python3"
  },
  "language_info": {
   "codemirror_mode": {
    "name": "ipython",
    "version": 3
   },
   "file_extension": ".py",
   "mimetype": "text/x-python",
   "name": "python",
   "nbconvert_exporter": "python",
   "pygments_lexer": "ipython3",
   "version": "3.11.9"
  }
 },
 "nbformat": 4,
 "nbformat_minor": 2
}
