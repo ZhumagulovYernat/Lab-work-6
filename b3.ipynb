{
 "cells": [
  {
   "cell_type": "code",
   "execution_count": 4,
   "metadata": {},
   "outputs": [
    {
     "name": "stdout",
     "output_type": "stream",
     "text": [
      "word is palik\n"
     ]
    }
   ],
   "source": [
    "from palik import is_palik\n",
    "wrd = input(\"Vedite slovo=\")\n",
    "if is_palik(wrd):\n",
    "    print(\"word is palik\")\n",
    "else:\n",
    "    print(\"word is not palik\")"
   ]
  },
  {
   "cell_type": "code",
   "execution_count": 1,
   "metadata": {},
   "outputs": [
    {
     "name": "stdout",
     "output_type": "stream",
     "text": [
      "Writing palik.py\n"
     ]
    }
   ],
   "source": [
    "%%writefile palik.py\n",
    "def is_palik(word):\n",
    "    return word == word[::-1]"
   ]
  }
 ],
 "metadata": {
  "kernelspec": {
   "display_name": "Python 3",
   "language": "python",
   "name": "python3"
  },
  "language_info": {
   "codemirror_mode": {
    "name": "ipython",
    "version": 3
   },
   "file_extension": ".py",
   "mimetype": "text/x-python",
   "name": "python",
   "nbconvert_exporter": "python",
   "pygments_lexer": "ipython3",
   "version": "3.11.9"
  }
 },
 "nbformat": 4,
 "nbformat_minor": 2
}
