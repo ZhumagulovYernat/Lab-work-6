{
 "cells": [
  {
   "cell_type": "code",
   "execution_count": 8,
   "metadata": {},
   "outputs": [
    {
     "data": {
      "text/plain": [
       "6"
      ]
     },
     "execution_count": 8,
     "metadata": {},
     "output_type": "execute_result"
    }
   ],
   "source": [
    "from builtlist import multiply\n",
    "san=int(input())\n",
    "list=[]\n",
    "for i in range(0,san):\n",
    "    y=int(input())\n",
    "    list.append(y)\n",
    "multiply(list)"
   ]
  },
  {
   "cell_type": "code",
   "execution_count": 4,
   "metadata": {},
   "outputs": [
    {
     "name": "stdout",
     "output_type": "stream",
     "text": [
      "Writing builtlist.py\n"
     ]
    }
   ],
   "source": [
    "%%writefile builtlist.py\n",
    "\n",
    "def multiply(a):\n",
    "    res=1\n",
    "    for i in a:\n",
    "        res *= i\n",
    "    return res"
   ]
  }
 ],
 "metadata": {
  "kernelspec": {
   "display_name": "Python 3",
   "language": "python",
   "name": "python3"
  },
  "language_info": {
   "codemirror_mode": {
    "name": "ipython",
    "version": 3
   },
   "file_extension": ".py",
   "mimetype": "text/x-python",
   "name": "python",
   "nbconvert_exporter": "python",
   "pygments_lexer": "ipython3",
   "version": "3.11.9"
  }
 },
 "nbformat": 4,
 "nbformat_minor": 2
}
