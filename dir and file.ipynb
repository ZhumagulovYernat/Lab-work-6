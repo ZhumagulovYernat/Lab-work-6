{
 "cells": [
  {
   "cell_type": "code",
   "execution_count": 8,
   "metadata": {},
   "outputs": [
    {
     "name": "stdout",
     "output_type": "stream",
     "text": [
      "Файл удалён.\n"
     ]
    }
   ],
   "source": [
    "#8\n",
    "import os\n",
    "\n",
    "path = \"file_to_delete.txt\"\n",
    "\n",
    "with open(path, \"w\") as file:\n",
    "    file.write(\"Этот файл будет удалён.\")\n",
    "\n",
    "if os.path.exists(path) and os.access(path, os.W_OK):\n",
    "    os.remove(path)\n",
    "    print(\"Файл удалён.\")\n",
    "else:\n",
    "    print(\"Файл не существует или нет доступа для удаления.\")"
   ]
  },
  {
   "cell_type": "code",
   "execution_count": null,
   "metadata": {},
   "outputs": [],
   "source": [
    "#7\n",
    "source_file = \"source.txt\"\n",
    "destination_file = \"destination.txt\"\n",
    "\n",
    "with open(source_file, \"w\") as file:\n",
    "    file.write(\"Пример содержимого файла.\")\n",
    "\n",
    "with open(source_file, \"r\") as src, open(destination_file, \"w\") as dest:\n",
    "    dest.write(src.read())\n",
    "\n",
    "print(\"Файл успешно скопирован.\")\n"
   ]
  },
  {
   "cell_type": "code",
   "execution_count": null,
   "metadata": {},
   "outputs": [],
   "source": [
    "#6\n",
    "import string\n",
    "\n",
    "for letter in string.ascii_uppercase:\n",
    "    with open(f\"{letter}.txt\", \"w\") as file:\n",
    "        file.write(f\"Это файл {letter}.txt\")\n",
    "\n",
    "print(\"26 файлов успешно созданы.\")\n"
   ]
  },
  {
   "cell_type": "code",
   "execution_count": 7,
   "metadata": {},
   "outputs": [
    {
     "name": "stdout",
     "output_type": "stream",
     "text": [
      "Список записан в файл.\n"
     ]
    }
   ],
   "source": [
    "#5\n",
    "filename = \"list.txt\"\n",
    "data = [\"Apple\", \"Banana\", \"Cherry\", \"Date\"]\n",
    "\n",
    "with open(filename, \"w\") as file:\n",
    "    file.writelines(\"\\n\".join(data))\n",
    "\n",
    "print(\"Список записан в файл.\")\n"
   ]
  },
  {
   "cell_type": "code",
   "execution_count": 6,
   "metadata": {},
   "outputs": [
    {
     "name": "stdout",
     "output_type": "stream",
     "text": [
      "Количество строк в файле: 3\n"
     ]
    }
   ],
   "source": [
    "#4\n",
    "filename = \"example.txt\"\n",
    "\n",
    "with open(filename, \"w\") as file:\n",
    "    file.write(\"Hello, world!\\nThis is a test file.\\nPython is great!\")\n",
    "\n",
    "with open(filename, \"r\") as file:\n",
    "    line_count = sum(1 for _ in file)\n",
    "\n",
    "print(\"Количество строк в файле:\", line_count)"
   ]
  },
  {
   "cell_type": "code",
   "execution_count": 4,
   "metadata": {},
   "outputs": [
    {
     "name": "stdout",
     "output_type": "stream",
     "text": [
      "Путь не существует\n"
     ]
    }
   ],
   "source": [
    "#3\n",
    "import os\n",
    "\n",
    "path = \"C:\\\\Users\\\\example.txt\"\n",
    "\n",
    "if os.path.exists(path):\n",
    "    print(\"Путь существует\")\n",
    "    print(\"Имя файла:\", os.path.basename(path))\n",
    "    print(\"Директория:\", os.path.dirname(path))\n",
    "else:\n",
    "    print(\"Путь не существует\")"
   ]
  },
  {
   "cell_type": "code",
   "execution_count": 3,
   "metadata": {},
   "outputs": [
    {
     "name": "stdout",
     "output_type": "stream",
     "text": [
      "Существует: True\n",
      "Читаемый: True\n",
      "Записываемый: True\n",
      "Исполняемый: True\n"
     ]
    }
   ],
   "source": [
    "#2\n",
    "import os\n",
    "\n",
    "path = \"C:\\\\Users\"  \n",
    "\n",
    "print(\"Существует:\", os.path.exists(path))\n",
    "print(\"Читаемый:\", os.access(path, os.R_OK))\n",
    "print(\"Записываемый:\", os.access(path, os.W_OK))\n",
    "print(\"Исполняемый:\", os.access(path, os.X_OK))\n"
   ]
  },
  {
   "cell_type": "code",
   "execution_count": 1,
   "metadata": {},
   "outputs": [
    {
     "name": "stdout",
     "output_type": "stream",
     "text": [
      "Директории: ['All Users', 'Default', 'Default User', 'Public', 'user', 'Все пользователи']\n",
      "Файлы: ['desktop.ini']\n",
      "Всё содержимое: ['All Users', 'Default', 'Default User', 'desktop.ini', 'Public', 'user', 'Все пользователи']\n"
     ]
    }
   ],
   "source": [
    "#1\n",
    "import os\n",
    "path = \"C:\\\\Users\"\n",
    "directories = [d for d in os.listdir(path) if os.path.isdir(os.path.join(path, d))]\n",
    "print(\"Директории:\", directories)\n",
    "files = [f for f in os.listdir(path) if os.path.isfile(os.path.join(path, f))]\n",
    "print(\"Файлы:\", files)\n",
    "all_items = os.listdir(path)\n",
    "print(\"Всё содержимое:\", all_items)"
   ]
  }
 ],
 "metadata": {
  "kernelspec": {
   "display_name": "Python 3",
   "language": "python",
   "name": "python3"
  },
  "language_info": {
   "codemirror_mode": {
    "name": "ipython",
    "version": 3
   },
   "file_extension": ".py",
   "mimetype": "text/x-python",
   "name": "python",
   "nbconvert_exporter": "python",
   "pygments_lexer": "ipython3",
   "version": "3.11.9"
  }
 },
 "nbformat": 4,
 "nbformat_minor": 2
}
